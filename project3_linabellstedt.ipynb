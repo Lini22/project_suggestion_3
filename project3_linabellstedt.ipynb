{
 "cells": [
  {
   "cell_type": "code",
   "execution_count": 118,
   "id": "ff6bfa57-bf24-4ca4-8d88-788d526734a4",
   "metadata": {},
   "outputs": [
    {
     "name": "stdout",
     "output_type": "stream",
     "text": [
      ">lcl|NM_101996.4_cds_NP_173566.1_1 [gene=SCL1] [locus_tag=AT1G21450] [db_xref=Araport:AT1G21450,TAIR:AT1G21450,GeneID:838743] [protein=SCARECROW-like 1] [protein_id=NP_173566.1] [location=486..2267] [gbkey=CDS]\n",
      "ATGGTGGAACAAACTGTGGTTAGAGAACATATCAAAGCGAGAGTCATGTCATTAGTGAGGTCTGCAGAGC\n",
      "CATCCTCATATAGGAACCCGAAGCTTTACACGTTGAATGAGAATGGTAATAACAATGGTGTCAGTTCTGC\n",
      "TCAAATCTTTGATCCAGATAGGTCAAAGAATCCTTGTCTGACTGATGATTCTTACCCAAGCCAAAGTTAT\n",
      "GAGAAGTACTTTCTTGATTCGCCAACTGATGAGTTTGTTCAACATCCTATTGGCTCTGGTGCCTCGGTTA\n",
      "GCTCATTTGGCTCTTTAGACTCATTTCCTTATCAGTCAAGACCAGTTCTTGGATGTTCCATGGAATTTCA\n",
      "GTTACCGTTGGATTCAACCTCTACTTCATCTACAAGGCTTTTGGGAGATTACCAAGCGGTTTCTTACAGT\n",
      "CCGAGCATGGATGTAGTGGAGGAGTTTGATGATGAGCAAATGAGATCAAAGATTCAAGAGCTTGAAAGAG\n",
      "CGCTTCTCGGCGATGAAGATGATAAAATGGTTGGAATAGATAACCTCATGGAGATTGACAGCGAATGGTC\n",
      "GTACCAAAACGAAAGCGAACAGCATCAAGACTCGCCCAAAGAATCATCGTCTGCAGATTCCAACTCTCAT\n",
      "GTAAGTAGCAAAGAAGTGGTGTCTCAAGCCACTCCAAAGCAAATCTTGATATCTTGTGCTCGTGCGCTAT\n",
      "CTGAAGGAAAATTAGAAGAAGCTTTGTCAATGGTAAATGAGCTGAGGCAGATAGTTTCTATCCAAGGAGA\n",
      "CCCTTCTCAGAGAATCGCAGCTTACATGGTGGAAGGTCTAGCTGCAAGAATGGCCGCTTCAGGAAAATTC\n",
      "ATCTACAGAGCATTGAAATGCAAAGAGCCTCCTTCGGATGAGAGGCTTGCAGCTATGCAAGTCCTGTTTG\n",
      "AAGTCTGCCCTTGTTTCAAGTTCGGGTTTTTAGCAGCTAATGGTGCGATACTTGAAGCAATCAAAGGTGA\n",
      "AGAAGAAGTTCACATAATCGATTTCGATATAAACCAAGGGAACCAATACATGACACTGATACGAAGCATT\n",
      "GCTGAGTTGCCTGGTAAACGACCTCGCCTGAGGTTAACAGGAATTGATGACCCTGAATCAGTCCAACGCT\n",
      "CCATTGGAGGGCTAAGAATCATCGGTCTAAGACTCGAGCAACTCGCAGAGGATAATGGAGTATCCTTCAA\n",
      "ATTCAAAGCAATGCCTTCAAAGACTTCGATTGTCTCTCCATCAACACTCGGTTGCAAACCAGGAGAAACC\n",
      "TTAATAGTGAACTTTGCATTCCAACTTCACCACATGCCTGACGAGAGTGTCACAACAGTAAACCAGCGGG\n",
      "ACGAGCTACTTCACATGGTCAAAAGCTTAAACCCAAAGCTTGTCACGGTCGTTGAACAAGACGTGAACAC\n",
      "AAACACTTCACCGTTCTTTCCCAGATTCATAGAGGCTTACGAATACTACTCAGCAGTTTTCGAGTCTCTA\n",
      "GACATGACACTTCCAAGAGAAAGCCAAGAGAGGATGAATGTAGAAAGACAGTGTCTCGCTAGAGACATAG\n",
      "TCAACATTGTTGCTTGCGAAGGAGAAGAACGGATAGAGAGATACGAGGCTGCGGGAAAATGGAGAGCAAG\n",
      "GATGATGATGGCTGGATTCAATCCAAAACCAATGAGTGCTAAAGTAACCAACAATATACAAAACCTGATA\n",
      "AAGCAACAATATTGCAATAAGTACAAGCTTAAAGAAGAAATGGGTGAGCTCCATTTTTGCTGGGAGGAGA\n",
      "AAAGCTTAATCGTTGCTTCAGCTTGGAGGTAA\n"
     ]
    }
   ],
   "source": [
    "scarecrow_like1CDS = open('scarecrow_like1CDS.txt')\n",
    "scarecrow_like1CDS_data = scarecrow_like1CDS.read()\n",
    "print(scarecrow_like1CDS_data)\n",
    "scarecrow_like1CDS.close()"
   ]
  },
  {
   "cell_type": "code",
   "execution_count": 119,
   "id": "5748ed35-dea8-4359-8736-d37953e45563",
   "metadata": {
    "tags": []
   },
   "outputs": [
    {
     "name": "stdout",
     "output_type": "stream",
     "text": [
      ">lcl|NM_115282.4_cds_NP_190990.1_1 [gene=SCR] [locus_tag=AT3G54220] [db_xref=TAIR:AT3G54220,GeneID:824589] [protein=GRAS family transcription factor] [protein_id=NP_190990.1] [location=564..2525] [gbkey=CDS]\n",
      "ATGGCGGAATCCGGCGATTTCAACGGTGGTCAACCTCCTCCTCATAGTCCTCTGAGAACAACTTCTTCCG\n",
      "GTAGTAGCAGCAGCAACAACCGTGGTCCTCCTCCTCCTCCTCCTCCTCCTTTAGTGATGGTGAGAAAAAG\n",
      "ATTAGCTTCCGAGATGTCTTCTAACCCTGACTACAACAACTCCTCTCGTCCTCCTCGCCGTGTCTCTCAC\n",
      "CTTCTTGACTCCAACTACAATACTGTCACACCACAACAACCACCGTCTCTTACGGCGGCGGCTACTGTAT\n",
      "CTTCTCAACCAAACCCACCACTCTCTGTTTGTGGCTTCTCTGGTCTTCCCGTTTTTCCTTCAGACCGTGG\n",
      "TGGTCGGAATGTTATGATGTCCGTACAACCAATGGATCAAGACTCTTCATCTTCTTCTGCTTCACCTACT\n",
      "GTATGGGTTGACGCCATTATCAGAGACCTTATCCATTCCTCAACTTCAGTCTCTATTCCTCAACTTATCC\n",
      "AAAACGTTAGAGACATTATCTTCCCTTGTAACCCAAATCTCGGTGCTCTTCTTGAATACAGGCTCCGATC\n",
      "TCTCATGCTCCTTGATCCTTCCTCTTCCTCTGACCCTTCTCCTCAAACTTTCGAACCTCTCTATCAGATC\n",
      "TCCAACAATCCTTCTCCTCCACAACAGCAACAGCAGCACCAACAACAACAACAACAGCATAAGCCTCCTC\n",
      "CTCCTCCGATTCAGCAGCAAGAAAGAGAAAATTCTTCTACCGATGCACCACCGCAACCAGAGACAGTGAC\n",
      "GGCCACTGTTCCCGCCGTCCAAACAAATACGGCGGAGGCTTTAAGAGAGAGGAAGGAAGAGATTAAGAGG\n",
      "CAGAAGCAAGACGAAGAAGGATTACACCTTCTCACATTGCTGCTACAGTGTGCTGAAGCTGTCTCTGCTG\n",
      "ATAATCTCGAAGAAGCAAACAAGCTTCTTCTTGAGATCTCTCAGTTATCAACTCCTTACGGGACCTCAGC\n",
      "GCAGAGAGTAGCTGCTTACTTCTCGGAAGCTATGTCAGCGAGATTACTCAACTCGTGTCTCGGAATTTAC\n",
      "GCGGCTTTGCCTTCACGGTGGATGCCTCAAACGCATAGCTTGAAAATGGTCTCTGCGTTTCAGGTCTTTA\n",
      "ATGGGATAAGCCCTTTAGTGAAATTCTCACACTTTACAGCGAATCAGGCGATTCAAGAAGCATTTGAGAA\n",
      "AGAAGACAGTGTACACATCATTGACTTGGACATCATGCAGGGACTTCAATGGCCTGGTTTATTCCACATT\n",
      "CTTGCTTCTAGACCTGGAGGACCTCCACACGTGCGACTCACGGGACTTGGTACTTCCATGGAAGCTCTTC\n",
      "AGGCTACAGGGAAACGTCTTTCGGATTTCGCAGATAAGCTTGGCCTGCCTTTTGAGTTCTGCCCTTTAGC\n",
      "TGAGAAAGTTGGAAACTTGGACACTGAGAGACTCAATGTGAGGAAAAGGGAAGCTGTGGCTGTTCACTGG\n",
      "CTTCAACATTCTCTTTATGATGTCACTGGCTCTGATGCACACACTCTCTGGTTACTCCAAAGATTAGCTC\n",
      "CTAAAGTTGTGACAGTAGTGGAACAAGATTTGAGCCACGCTGGTTCTTTCTTAGGAAGATTTGTAGAAGC\n",
      "AATACATTACTACTCTGCACTCTTTGACTCACTGGGAGCAAGCTACGGCGAAGAGAGTGAAGAGAGACAT\n",
      "GTCGTGGAACAGCAGCTATTATCGAAAGAGATACGGAATGTATTAGCGGTTGGAGGACCATCGAGAAGCG\n",
      "GTGAAGTGAAGTTTGAGAGCTGGAGGGAGAAAATGCAACAATGTGGGTTTAAAGGTATATCTTTAGCTGG\n",
      "AAATGCAGCTACACAAGCGACTCTACTGTTGGGAATGTTTCCTTCGGATGGTTACACTTTGGTTGATGAT\n",
      "AATGGTACACTTAAGCTTGGATGGAAAGATCTTTCGTTACTCACTGCTTCAGCTTGGACGCCTCGTTCTTAG\n"
     ]
    }
   ],
   "source": [
    "scarecrowCDS = open('scarecrowCDS.txt')\n",
    "scarecrowCDS_data = scarecrowCDS.read()\n",
    "print(scarecrowCDS_data)\n",
    "scarecrowCDS.close()"
   ]
  },
  {
   "cell_type": "code",
   "execution_count": 120,
   "id": "a9076474-da8e-4b8a-9cd5-2472a1e5f0d4",
   "metadata": {
    "tags": []
   },
   "outputs": [],
   "source": [
    "scarecrow_like3CDS = open('scarecrow_like3CDS.txt')\n",
    "scarecrow_like3CDS_data = scarecrow_like3CDS.read()\n",
    "scarecrow_like3CDS.close()"
   ]
  },
  {
   "cell_type": "code",
   "execution_count": 121,
   "id": "d8455361-5b75-441f-8f66-7b514b7efae6",
   "metadata": {
    "tags": []
   },
   "outputs": [],
   "source": [
    "scarecrow_like8CDS = open('scarecrow_like8CDS.txt')\n",
    "scarecrow_like8CDS_data = scarecrow_like8CDS.read()\n",
    "scarecrow_like8CDS.close()"
   ]
  },
  {
   "cell_type": "code",
   "execution_count": 122,
   "id": "ec4b2571-f8ff-4c13-95c6-acb8928d0139",
   "metadata": {
    "tags": []
   },
   "outputs": [],
   "source": [
    "scarecrow_like14CDS = open('scarecrow_like14CDS.txt')\n",
    "scarecrow_like14CDS_data = scarecrow_like14CDS.read()\n",
    "scarecrow_like14CDS.close()"
   ]
  },
  {
   "cell_type": "code",
   "execution_count": 133,
   "id": "c20f824f-61ce-477b-9faa-5c42bf0878c2",
   "metadata": {
    "tags": []
   },
   "outputs": [],
   "source": [
    "scarecrow_like15CDS = open('scarecrow_like15CDS.txt')\n",
    "scarecrow_like15CDS_data = scarecrow_like15CDS.read()\n",
    "scarecrow_like15CDS.close()"
   ]
  },
  {
   "cell_type": "code",
   "execution_count": 134,
   "id": "7861d7a0-e105-43fe-9a58-9cf331a175ea",
   "metadata": {
    "tags": []
   },
   "outputs": [],
   "source": [
    "scarecrow_like18CDS = open('scarecrow_like18CDS.txt')\n",
    "scarecrow_like18CDS_data = scarecrow_like18CDS.read()\n",
    "scarecrow_like18CDS.close()"
   ]
  },
  {
   "cell_type": "code",
   "execution_count": 135,
   "id": "859e881d-4627-4f57-9c8e-66e8117d2344",
   "metadata": {
    "tags": []
   },
   "outputs": [],
   "source": [
    "scarecrow_like21CDS = open('scarecrow_like21CDS.txt')\n",
    "scarecrow_like21CDS_data = scarecrow_like21CDS.read()\n",
    "scarecrow_like21CDS.close()"
   ]
  },
  {
   "cell_type": "code",
   "execution_count": 136,
   "id": "0a9c2aa8-1d4a-4416-8bd1-dbdc61bb7cfd",
   "metadata": {
    "tags": []
   },
   "outputs": [],
   "source": [
    "scarecrow_like23CDS = open('scarecrow_like23CDS.txt')\n",
    "scarecrow_like23CDS_data = scarecrow_like23CDS.read()\n",
    "scarecrow_like23CDS.close()"
   ]
  },
  {
   "cell_type": "code",
   "execution_count": 139,
   "id": "137eef40-1a93-492b-828e-bd2b75fb5b2b",
   "metadata": {
    "tags": []
   },
   "outputs": [],
   "source": [
    "scarecrow_like27CDS = open('scarecrow_like27CDS.txt')\n",
    "scarecrow_like27CDS_data = scarecrow_like27CDS.read()\n",
    "scarecrow_like27CDS.close()"
   ]
  },
  {
   "cell_type": "code",
   "execution_count": 137,
   "id": "78473c58-9616-42a5-8962-c4e00797dc36",
   "metadata": {
    "tags": []
   },
   "outputs": [],
   "source": [
    "scarecrow_like28CDS = open('scarecrow_like28CDS.txt')\n",
    "scarecrow_like28CDS_data = scarecrow_like28CDS.read()\n",
    "scarecrow_like28CDS.close()"
   ]
  },
  {
   "cell_type": "code",
   "execution_count": 123,
   "id": "3164c845-a639-4f7f-bfa3-e519a84250ca",
   "metadata": {
    "tags": []
   },
   "outputs": [
    {
     "name": "stdin",
     "output_type": "stream",
     "text": [
      "Please enter DNA sequence in upper case:\n",
      " ATGACTACAAAACGCATAGACAGAGATCTCCCATCTTCCGACGATCCTTCCTCCGCTAAACGCCGTATCG AATTCCCCGAAGAAACACTCGAAAACGACGGTGCTGCCGCAATCAAACTCCTTAGCTTACTCCTCCAATG CGCCGAATACGTAGCTACTGATCATCTCCGTGAAGCTTCAACACTTTTATCCGAAATCTCCGAGATATGT TCTCCGTTCGGTTCCTCGCCGGAGCGAGTCGTCGCTTACTTCGCTCAAGCGCTACAAACGCGCGTGATCA GCTCTTACCTCTCCGGCGCGTGTTCTCCCCTCTCCGAGAAACCACTCACTGTTGTTCAGTCTCAGAAAAT CTTCTCCGCCTTGCAGACTTATAACTCCGTTAGTCCTCTGATCAAATTCTCACATTTCACGGCGAATCAA GCCATTTTTCAGGCGCTTGACGGAGAAGATTCCGTTCATATCATCGATCTCGATGTTATGCAAGGTCTTC AATGGCCGGCTCTATTTCACATCCTCGCTTCACGTCCTCGAAAACTCCGATCAATTCGAATCACCGGATT TGGTTCCTCCTCCGATCTACTCGCTTCAACTGGCCGGAGACTCGCCGATTTCGCATCATCGTTAAACCTC CCTTTCGAATTTCATCCAATTGAAGGCATAATCGGAAACCTAATCGATCCGAGCCAACTCGCAACGAGAC AAGGAGAAGCTGTGGTGGTTCATTGGATGCAGCACCGGTTATATGATGTTACAGGGAACAATCTCGAGAC GTTGGAGATTCTACGGAGGCTGAAACCGAATCTGATCACGGTGGTGGAGCAAGAATTGAGCTACGACGAT GGAGGAAGCTTTTTAGGAAGATTCGTGGAGGCTTTGCATTATTATAGCGCGTTGTTTGACGCGCTAGGAG ATGGATTGGGTGAAGAGAGTGGTGAGAGATTCACGGTGGAGCAGATTGTTTTGGGGACGGAGATAAGAAA CATTGTGGCGCACGGAGGAGGAAGAAGGAAGAGAATGAAGTGGAAAGAAGAACTGAGCCGGGTCGGGTTT AGACCTGTTTCGCTTCGGGGTAACCCGGCGACACAAGCGGGTTTATTGTTGGGTATGTTACCGTGGAATG GATATACTTTGGTTGAAGAGAATGGAACCCTCCGTCTTGGCTGGAAGGATCTCTCGCTTTTGACTGCCTCTGCCTGGAAATCTCAGCCGTTCGATTGA\n"
     ]
    },
    {
     "name": "stdout",
     "output_type": "stream",
     "text": [
      "A content for selected  forward  primer:  10\n",
      "T content for selected  forward  primer:  3\n",
      "G content for selected  forward  primer:  3\n",
      "C content for selected  forward  primer:  4\n",
      "A content for selected  forward  primer:  6\n",
      "T content for selected  forward  primer:  5\n",
      "G content for selected  forward  primer:  5\n",
      "C content for selected  forward  primer:  4\n",
      "A content for selected  forward  primer:  10\n",
      "T content for selected  forward  primer:  3\n",
      "G content for selected  forward  primer:  3\n",
      "C content for selected  forward  primer:  5\n",
      "A content for selected  forward  primer:  6\n",
      "T content for selected  forward  primer:  6\n",
      "G content for selected  forward  primer:  5\n",
      "C content for selected  forward  primer:  4\n",
      "The forward primer for your DNA input is:\n",
      "ATGACTACAAAACGCATAGAC\n",
      "\n",
      "The reverse primer for your DNA input is:\n",
      "TCAATCGAACGGCTGAGATTT\n",
      "\n",
      "\n",
      " The annealing temperature for the selected forward primer is 58 °C \n",
      "\n",
      "\n",
      " The annealing temperature for the selected reversed primer is 60°C\n"
     ]
    }
   ],
   "source": [
    "def countBases(baseChain, name = 'forward'):\n",
    "    aCount = baseChain.count('A')\n",
    "    print('A content for selected ', name, ' primer: ', str(aCount))\n",
    "    tCount = baseChain.count('T')\n",
    "    print('T content for selected ', name, ' primer: ', str(tCount))\n",
    "    gCount = baseChain.count('G')\n",
    "    print('G content for selected ', name, ' primer: ', str(gCount))\n",
    "    cCount = baseChain.count('C')\n",
    "    print('C content for selected ', name, ' primer: ', str(cCount))\n",
    "    return [aCount, tCount, gCount, cCount]\n",
    "\n",
    "def calculateAnnealingTemperature(baseChain):\n",
    "    aCount, tCount, gCount, cCount = countBases(baseChain)\n",
    "    return 2*(aCount + tCount) + 4*(gCount + cCount)\n",
    "\n",
    "def generateReversePrimer(sequenceEnd):\n",
    "    reversePrimer = ''\n",
    "    # Go through all bases and append reverse to reversePrimer string\n",
    "    for i in sequenceEnd:\n",
    "        if i == \"A\": reversePrimer += 'T'\n",
    "        elif i == \"T\": reversePrimer += 'A'\n",
    "        elif i == \"G\": reversePrimer += 'C'\n",
    "        elif i == \"C\": reversePrimer += 'G'\n",
    "\n",
    "    return reversePrimer\n",
    "\n",
    "def analyzePrimers(DNA_input):\n",
    "    primerLength = 20\n",
    "    while True:\n",
    "        # Get forward primer\n",
    "        forward_primer = DNA_input[:primerLength]\n",
    "        # get reverse primer\n",
    "        DNA_input_reversed = DNA_input[::-1]\n",
    "        reverse_primer = generateReversePrimer(DNA_input_reversed[:primerLength])\n",
    "\n",
    "        # Calculate annealing temperatur for forward primer\n",
    "        annealing_temp_forward_primer = calculateAnnealingTemperature(forward_primer)\n",
    "        # Calculate annealing temperatur for reverse primer\n",
    "        annealing_temp_reverse_primer = calculateAnnealingTemperature(reverse_primer)\n",
    "\n",
    "        # Check if temperatures within limit\n",
    "        if (55 <= annealing_temp_forward_primer <= 62) and (55 <= annealing_temp_reverse_primer <= 62) :\n",
    "            return forward_primer, reverse_primer, annealing_temp_forward_primer, annealing_temp_reverse_primer\n",
    "        else:\n",
    "            # If not, increase primer length and try again\n",
    "            primerLength += 1\n",
    "\n",
    "        # Catch bugs\n",
    "        if primerLength > 23:\n",
    "            print('Somethings wrong')\n",
    "            return None, None, None, None\n",
    "\n",
    "# Get DNA input from user\n",
    "DNA_input = input('Please enter DNA sequence in upper case:\\n')\n",
    "# Remove whitespaces\n",
    "DNA_input = DNA_input.strip()\n",
    "# Analyze primers and get results\n",
    "forward_primer, reverse_primer, annealing_temp_forward_primer, annealing_temp_reverse_primer = analyzePrimers(DNA_input)\n",
    "\n",
    "# Print results to console\n",
    "print('The forward primer for your DNA input is:\\n' + forward_primer + '\\n')\n",
    "print('The reverse primer for your DNA input is:\\n' + reverse_primer + '\\n')\n",
    "print('\\n The annealing temperature for the selected forward primer is ' + str(annealing_temp_forward_primer) + ' °C \\n')\n",
    "print('\\n The annealing temperature for the selected reversed primer is ' + str(annealing_temp_reverse_primer) + '°C')"
   ]
  },
  {
   "cell_type": "code",
   "execution_count": 124,
   "id": "6ad0939d-38ad-4ee4-862d-990edc3b1ecc",
   "metadata": {},
   "outputs": [],
   "source": [
    "#print scarecrowCDS\n",
    "#A content for selected  forward  primer:  4\n",
    "#T content for selected  forward  primer:  5\n",
    "#G content for selected  forward  primer:  7\n",
    "#C content for selected  forward  primer:  4\n",
    "#A content for selected  forward  primer:  7\n",
    "#T content for selected  forward  primer:  2\n",
    "#G content for selected  forward  primer:  6\n",
    "#C content for selected  forward  primer:  5\n",
    "#The forward primer for your DNA input is: ATGGCGGAATCCGGCGATTT\n",
    "#The reverse primer for your DNA input is: CTAAGAACGAGGCGTCCAAG\n",
    "#The annealing temperature for the selected forward primer is 62 °C \n",
    "#The annealing temperature for the selected reversed primer is 62°C"
   ]
  },
  {
   "cell_type": "code",
   "execution_count": 125,
   "id": "8fa45d6b-3f46-4df2-8d23-8c0d39866b0a",
   "metadata": {},
   "outputs": [],
   "source": [
    "#print scarecrow_like1CDS\n",
    "#A content for selected  forward  primer:  6\n",
    "#T content for selected  forward  primer:  5\n",
    "#G content for selected  forward  primer:  7\n",
    "#C content for selected  forward  primer:  2\n",
    "#A content for selected  forward  primer:  7\n",
    "#T content for selected  forward  primer:  4\n",
    "#G content for selected  forward  primer:  3\n",
    "#C content for selected  forward  primer:  6\n",
    "#The forward primer for your DNA input is: ATGGTGGAACAAACTGTGGT\n",
    "#The reverse primer for your DNA input is: TTACCTCCAAGCTGAAGCAA\n",
    "#The annealing temperature for the selected forward primer is 58 °C \n",
    "#The annealing temperature for the selected reversed primer is 58°C"
   ]
  },
  {
   "cell_type": "code",
   "execution_count": 126,
   "id": "0d3342ab-a7fd-44d5-a006-6a833bef7a69",
   "metadata": {
    "tags": []
   },
   "outputs": [],
   "source": [
    "#print scarecrow-like3CDS\n",
    "#A content for selected  forward  primer:  5\n",
    "#T content for selected  forward  primer:  7\n",
    "#G content for selected  forward  primer:  6\n",
    "#C content for selected  forward  primer:  2\n",
    "#A content for selected  forward  primer:  4\n",
    "#T content for selected  forward  primer:  6\n",
    "#G content for selected  forward  primer:  2\n",
    "#C content for selected  forward  primer:  8\n",
    "#The forward primer for your DNA input is: ATGGTGGCTATGTTTCAAGA\n",
    "#The reverse primer for your DNA input is: TCACTTCCTGCATCTCCAAG\n",
    "#The annealing temperature for the selected forward primer is 56 °C \n",
    "#The annealing temperature for the selected reversed primer is 60°C"
   ]
  },
  {
   "cell_type": "code",
   "execution_count": 127,
   "id": "cbe9cf5f-cd1b-45d5-918d-89bc00a409de",
   "metadata": {},
   "outputs": [],
   "source": [
    "#print scarecrow-like8CDS\n",
    "#A content for selected  forward  primer:  3\n",
    "#T content for selected  forward  primer:  7\n",
    "#G content for selected  forward  primer:  6\n",
    "#C content for selected  forward  primer:  4\n",
    "#A content for selected  forward  primer:  6\n",
    "#T content for selected  forward  primer:  3\n",
    "#G content for selected  forward  primer:  6\n",
    "#C content for selected  forward  primer:  5\n",
    "#The forward primer for your DNA input is: ATGGAATCTGGTTTCTCCGG\n",
    "#The reverse primer for your DNA input is: TTAACGCCAAGCGGATGCGA\n",
    "#The annealing temperature for the selected forward primer is 60 °C \n",
    "#The annealing temperature for the selected reversed primer is 62°C"
   ]
  },
  {
   "cell_type": "code",
   "execution_count": 128,
   "id": "660f63b9-d2ab-42a6-a9b9-0f7d6ef4586a",
   "metadata": {
    "tags": []
   },
   "outputs": [],
   "source": [
    "#print scarecrow-like14CDS\n",
    "#A content for selected  forward  primer:  3\n",
    "#T content for selected  forward  primer:  7\n",
    "#G content for selected  forward  primer:  7\n",
    "#C content for selected  forward  primer:  3\n",
    "#A content for selected  forward  primer:  8\n",
    "#T content for selected  forward  primer:  2\n",
    "#G content for selected  forward  primer:  5\n",
    "#C content for selected  forward  primer:  5\n",
    "#The forward primer for your DNA input is: ATGGGTTCTTATCCGGATGG\n",
    "#The reverse primer for your DNA input is: CTATGAAGACGAAGGAACCC\n",
    "#The annealing temperature for the selected forward primer is 60 °C \n",
    "#The annealing temperature for the selected reversed primer is 60°C"
   ]
  },
  {
   "cell_type": "code",
   "execution_count": 129,
   "id": "9576e37e-ba55-4cd1-99c5-5780a0dc9cbf",
   "metadata": {},
   "outputs": [],
   "source": [
    "#print scarecrow_like15CDS\n",
    "#A content for selected  forward  primer:  7\n",
    "#T content for selected  forward  primer:  5\n",
    "#G content for selected  forward  primer:  2\n",
    "#C content for selected  forward  primer:  6\n",
    "#A content for selected  forward  primer:  7\n",
    "#T content for selected  forward  primer:  3\n",
    "#G content for selected  forward  primer:  4\n",
    "#C content for selected  forward  primer:  6\n",
    "#The forward primer for your DNA input is: ATGAAAATCCCTGCATCATC\n",
    "#The reverse primer for your DNA input is: CTAAAACCGCCAAGCTGATG\n",
    "#The annealing temperature for the selected forward primer is 56 °C \n",
    "#The annealing temperature for the selected reversed primer is 60°C"
   ]
  },
  {
   "cell_type": "code",
   "execution_count": 130,
   "id": "8594c443-b262-48d5-bf19-fa80dcd9a21b",
   "metadata": {},
   "outputs": [],
   "source": [
    "#print scarecrow-like 18\n",
    "#A content for selected  forward  primer:  5\n",
    "#T content for selected  forward  primer:  8\n",
    "#G content for selected  forward  primer:  1\n",
    "#C content for selected  forward  primer:  6\n",
    "#A content for selected  forward  primer:  6\n",
    "#T content for selected  forward  primer:  4\n",
    "#G content for selected  forward  primer:  3\n",
    "#C content for selected  forward  primer:  6\n",
    "#A content for selected  forward  primer:  5\n",
    "#T content for selected  forward  primer:  8\n",
    "#G content for selected  forward  primer:  1\n",
    "#C content for selected  forward  primer:  7\n",
    "#A content for selected  forward  primer:  6\n",
    "#T content for selected  forward  primer:  4\n",
    "#G content for selected  forward  primer:  4\n",
    "#C content for selected  forward  primer:  6\n",
    "#The forward primer for your DNA input is: ATGCTTACTTCCTTCAAATCC\n",
    "#The reverse primer for your DNA input is: TCATTTCCACGACGAAACGG\n",
    "#The annealing temperature for the selected forward primer is 58 °C \n",
    "#The annealing temperature for the selected reversed primer is 60°C"
   ]
  },
  {
   "cell_type": "code",
   "execution_count": 131,
   "id": "2ec09180-9b84-4ceb-b8d1-463680e36049",
   "metadata": {},
   "outputs": [],
   "source": [
    "#print scarecrow_like21CDS\n",
    "#A content for selected  forward  primer:  7\n",
    "#T content for selected  forward  primer:  5\n",
    "#G content for selected  forward  primer:  6\n",
    "#C content for selected  forward  primer:  2\n",
    "#A content for selected  forward  primer:  6\n",
    "#T content for selected  forward  primer:  5\n",
    "#G content for selected  forward  primer:  3\n",
    "#C content for selected  forward  primer:  6\n",
    "#The forward primer for your DNA input is: ATGGACAATGTAAGAGGTTC\n",
    "#The reverse primer for your DNA input is: TCACTTCCATGCACAAGATG\n",
    "#The annealing temperature for the selected forward primer is 56 °C \n",
    "#The annealing temperature for the selected reversed primer is 58°C"
   ]
  },
  {
   "cell_type": "code",
   "execution_count": null,
   "id": "3a4b96fd-6864-4d87-aa2b-2fd74a0ae353",
   "metadata": {},
   "outputs": [],
   "source": [
    "#print scarecrow_like27CDS\n",
    "#A content for selected  forward  primer:  10\n",
    "#T content for selected  forward  primer:  3\n",
    "#G content for selected  forward  primer:  3\n",
    "#C content for selected  forward  primer:  4\n",
    "#A content for selected  forward  primer:  6\n",
    "#T content for selected  forward  primer:  5\n",
    "#G content for selected  forward  primer:  5\n",
    "#C content for selected  forward  primer:  4\n",
    "#A content for selected  forward  primer:  10\n",
    "#T content for selected  forward  primer:  3\n",
    "#G content for selected  forward  primer:  3\n",
    "#C content for selected  forward  primer:  5\n",
    "#A content for selected  forward  primer:  6\n",
    "#T content for selected  forward  primer:  6\n",
    "#G content for selected  forward  primer:  5\n",
    "#C content for selected  forward  primer:  4\n",
    "#The forward primer for your DNA input is: ATGACTACAAAACGCATAGAC\n",
    "#The reverse primer for your DNA input is: TCAATCGAACGGCTGAGATTT\n",
    "#The annealing temperature for the selected forward primer is 58 °C \n",
    "#The annealing temperature for the selected reversed primer is 60°C"
   ]
  },
  {
   "cell_type": "code",
   "execution_count": 132,
   "id": "d73b64b3-4cf5-4af4-9106-aec5a9d7e327",
   "metadata": {
    "tags": []
   },
   "outputs": [],
   "source": [
    "#print scarecrow-like 28\n",
    "#A content for selected  forward  primer:  3\n",
    "#T content for selected  forward  primer:  7\n",
    "#G content for selected  forward  primer:  8\n",
    "#C content for selected  forward  primer:  2\n",
    "#A content for selected  forward  primer:  3\n",
    "#T content for selected  forward  primer:  7\n",
    "#G content for selected  forward  primer:  3\n",
    "#C content for selected  forward  primer:  7\n",
    "#The forward primer for your DNA input is: ATGTTGGCAGGTTGTTCGAG\n",
    "#The reverse primer for your DNA input is: TTAATTCCCTCCGGTAGTCC\n",
    "#The annealing temperature for the selected forward primer is 60 °C \n",
    "#The annealing temperature for the selected reversed primer is 60°C"
   ]
  },
  {
   "cell_type": "code",
   "execution_count": null,
   "id": "a6be64d3-f39c-4bcb-8915-4e264615e51a",
   "metadata": {},
   "outputs": [],
   "source": []
  }
 ],
 "metadata": {
  "kernelspec": {
   "display_name": "Python 3 (ipykernel)",
   "language": "python",
   "name": "python3"
  },
  "language_info": {
   "codemirror_mode": {
    "name": "ipython",
    "version": 3
   },
   "file_extension": ".py",
   "mimetype": "text/x-python",
   "name": "python",
   "nbconvert_exporter": "python",
   "pygments_lexer": "ipython3",
   "version": "3.10.10"
  }
 },
 "nbformat": 4,
 "nbformat_minor": 5
}
